{
 "cells": [
  {
   "cell_type": "markdown",
   "metadata": {},
   "source": [
    "### Explore Bike Share Data\n",
    "\n",
    "This project is about exploring US bikeshare data of three cities namely Chicago, New York and Washington. You can see basic stats like which is the most common start staion, end station and combination of both. Plots are generated using ggplot2 to better understand the usage pattern."
   ]
  },
  {
   "cell_type": "code",
   "execution_count": 1,
   "metadata": {},
   "outputs": [
    {
     "name": "stderr",
     "output_type": "stream",
     "text": [
      "\n",
      "Attaching package: 'dplyr'\n",
      "\n",
      "The following objects are masked from 'package:stats':\n",
      "\n",
      "    filter, lag\n",
      "\n",
      "The following objects are masked from 'package:base':\n",
      "\n",
      "    intersect, setdiff, setequal, union\n",
      "\n",
      "Registered S3 methods overwritten by 'ggplot2':\n",
      "  method         from \n",
      "  [.quosures     rlang\n",
      "  c.quosures     rlang\n",
      "  print.quosures rlang\n",
      "\n",
      "Attaching package: 'lubridate'\n",
      "\n",
      "The following object is masked from 'package:base':\n",
      "\n",
      "    date\n",
      "\n"
     ]
    }
   ],
   "source": [
    "# loading the required packages\n",
    "library(dplyr)\n",
    "library(ggplot2)\n",
    "library(lubridate)"
   ]
  },
  {
   "cell_type": "code",
   "execution_count": 2,
   "metadata": {},
   "outputs": [],
   "source": [
    "# loading the required datasets\n",
    "ny = read.csv('new_york_city.csv', row.names = 1)\n",
    "wash = read.csv('washington.csv', row.names = 1)\n",
    "chi = read.csv('chicago.csv', row.names = 1)"
   ]
  },
  {
   "cell_type": "code",
   "execution_count": 3,
   "metadata": {},
   "outputs": [
    {
     "data": {
      "text/html": [
       "<table>\n",
       "<thead><tr><th></th><th scope=col>Start.Time</th><th scope=col>End.Time</th><th scope=col>Trip.Duration</th><th scope=col>Start.Station</th><th scope=col>End.Station</th><th scope=col>User.Type</th><th scope=col>Gender</th><th scope=col>Birth.Year</th></tr></thead>\n",
       "<tbody>\n",
       "\t<tr><th scope=row>5688089</th><td>2017-06-11 14:55:05                           </td><td>2017-06-11 15:08:21                           </td><td> 795                                          </td><td>Suffolk St &amp; Stanton St                   </td><td>W Broadway &amp; Spring St                    </td><td>Subscriber                                    </td><td><span style=white-space:pre-wrap>Male  </span></td><td>1998                                          </td></tr>\n",
       "\t<tr><th scope=row>4096714</th><td>2017-05-11 15:30:11                                               </td><td>2017-05-11 15:41:43                                               </td><td> 692                                                              </td><td>Lexington Ave &amp; E 63 St                                       </td><td><span style=white-space:pre-wrap>1 Ave &amp; E 78 St       </span></td><td>Subscriber                                                        </td><td><span style=white-space:pre-wrap>Male  </span>                    </td><td>1981                                                              </td></tr>\n",
       "\t<tr><th scope=row>2173887</th><td>2017-03-29 13:26:26                                                </td><td>2017-03-29 13:48:31                                                </td><td>1325                                                               </td><td><span style=white-space:pre-wrap>1 Pl &amp; Clinton St      </span></td><td><span style=white-space:pre-wrap>Henry St &amp; Degraw St  </span> </td><td>Subscriber                                                         </td><td><span style=white-space:pre-wrap>Male  </span>                     </td><td>1987                                                               </td></tr>\n",
       "\t<tr><th scope=row>3945638</th><td>2017-05-08 19:47:18                                                </td><td>2017-05-08 19:59:01                                                </td><td> 703                                                               </td><td><span style=white-space:pre-wrap>Barrow St &amp; Hudson St  </span></td><td><span style=white-space:pre-wrap>W 20 St &amp; 8 Ave       </span> </td><td>Subscriber                                                         </td><td>Female                                                             </td><td>1986                                                               </td></tr>\n",
       "\t<tr><th scope=row>6208972</th><td>2017-06-21 07:49:16                                                </td><td>2017-06-21 07:54:46                                                </td><td> 329                                                               </td><td><span style=white-space:pre-wrap>1 Ave &amp; E 44 St        </span></td><td><span style=white-space:pre-wrap>E 53 St &amp; 3 Ave       </span> </td><td>Subscriber                                                         </td><td><span style=white-space:pre-wrap>Male  </span>                     </td><td>1992                                                               </td></tr>\n",
       "\t<tr><th scope=row>1285652</th><td>2017-02-22 18:55:24                                                </td><td>2017-02-22 19:12:03                                                </td><td> 998                                                               </td><td><span style=white-space:pre-wrap>State St &amp; Smith St    </span></td><td><span style=white-space:pre-wrap>Bond St &amp; Fulton St   </span> </td><td>Subscriber                                                         </td><td><span style=white-space:pre-wrap>Male  </span>                     </td><td>1986                                                               </td></tr>\n",
       "</tbody>\n",
       "</table>\n"
      ],
      "text/latex": [
       "\\begin{tabular}{r|llllllll}\n",
       "  & Start.Time & End.Time & Trip.Duration & Start.Station & End.Station & User.Type & Gender & Birth.Year\\\\\n",
       "\\hline\n",
       "\t5688089 & 2017-06-11 14:55:05       & 2017-06-11 15:08:21       &  795                      & Suffolk St \\& Stanton St & W Broadway \\& Spring St  & Subscriber                & Male                      & 1998                     \\\\\n",
       "\t4096714 & 2017-05-11 15:30:11       & 2017-05-11 15:41:43       &  692                      & Lexington Ave \\& E 63 St & 1 Ave \\& E 78 St         & Subscriber                & Male                      & 1981                     \\\\\n",
       "\t2173887 & 2017-03-29 13:26:26       & 2017-03-29 13:48:31       & 1325                      & 1 Pl \\& Clinton St       & Henry St \\& Degraw St    & Subscriber                & Male                      & 1987                     \\\\\n",
       "\t3945638 & 2017-05-08 19:47:18       & 2017-05-08 19:59:01       &  703                      & Barrow St \\& Hudson St   & W 20 St \\& 8 Ave         & Subscriber                & Female                    & 1986                     \\\\\n",
       "\t6208972 & 2017-06-21 07:49:16       & 2017-06-21 07:54:46       &  329                      & 1 Ave \\& E 44 St         & E 53 St \\& 3 Ave         & Subscriber                & Male                      & 1992                     \\\\\n",
       "\t1285652 & 2017-02-22 18:55:24       & 2017-02-22 19:12:03       &  998                      & State St \\& Smith St     & Bond St \\& Fulton St     & Subscriber                & Male                      & 1986                     \\\\\n",
       "\\end{tabular}\n"
      ],
      "text/markdown": [
       "\n",
       "| <!--/--> | Start.Time | End.Time | Trip.Duration | Start.Station | End.Station | User.Type | Gender | Birth.Year |\n",
       "|---|---|---|---|---|---|---|---|---|\n",
       "| 5688089 | 2017-06-11 14:55:05     | 2017-06-11 15:08:21     |  795                    | Suffolk St & Stanton St | W Broadway & Spring St  | Subscriber              | Male                    | 1998                    |\n",
       "| 4096714 | 2017-05-11 15:30:11     | 2017-05-11 15:41:43     |  692                    | Lexington Ave & E 63 St | 1 Ave & E 78 St         | Subscriber              | Male                    | 1981                    |\n",
       "| 2173887 | 2017-03-29 13:26:26     | 2017-03-29 13:48:31     | 1325                    | 1 Pl & Clinton St       | Henry St & Degraw St    | Subscriber              | Male                    | 1987                    |\n",
       "| 3945638 | 2017-05-08 19:47:18     | 2017-05-08 19:59:01     |  703                    | Barrow St & Hudson St   | W 20 St & 8 Ave         | Subscriber              | Female                  | 1986                    |\n",
       "| 6208972 | 2017-06-21 07:49:16     | 2017-06-21 07:54:46     |  329                    | 1 Ave & E 44 St         | E 53 St & 3 Ave         | Subscriber              | Male                    | 1992                    |\n",
       "| 1285652 | 2017-02-22 18:55:24     | 2017-02-22 19:12:03     |  998                    | State St & Smith St     | Bond St & Fulton St     | Subscriber              | Male                    | 1986                    |\n",
       "\n"
      ],
      "text/plain": [
       "        Start.Time          End.Time            Trip.Duration\n",
       "5688089 2017-06-11 14:55:05 2017-06-11 15:08:21  795         \n",
       "4096714 2017-05-11 15:30:11 2017-05-11 15:41:43  692         \n",
       "2173887 2017-03-29 13:26:26 2017-03-29 13:48:31 1325         \n",
       "3945638 2017-05-08 19:47:18 2017-05-08 19:59:01  703         \n",
       "6208972 2017-06-21 07:49:16 2017-06-21 07:54:46  329         \n",
       "1285652 2017-02-22 18:55:24 2017-02-22 19:12:03  998         \n",
       "        Start.Station           End.Station            User.Type  Gender\n",
       "5688089 Suffolk St & Stanton St W Broadway & Spring St Subscriber Male  \n",
       "4096714 Lexington Ave & E 63 St 1 Ave & E 78 St        Subscriber Male  \n",
       "2173887 1 Pl & Clinton St       Henry St & Degraw St   Subscriber Male  \n",
       "3945638 Barrow St & Hudson St   W 20 St & 8 Ave        Subscriber Female\n",
       "6208972 1 Ave & E 44 St         E 53 St & 3 Ave        Subscriber Male  \n",
       "1285652 State St & Smith St     Bond St & Fulton St    Subscriber Male  \n",
       "        Birth.Year\n",
       "5688089 1998      \n",
       "4096714 1981      \n",
       "2173887 1987      \n",
       "3945638 1986      \n",
       "6208972 1992      \n",
       "1285652 1986      "
      ]
     },
     "metadata": {},
     "output_type": "display_data"
    }
   ],
   "source": [
    "# display top 6 rows \n",
    "head(ny)"
   ]
  },
  {
   "cell_type": "code",
   "execution_count": 4,
   "metadata": {},
   "outputs": [
    {
     "data": {
      "text/html": [
       "<table>\n",
       "<thead><tr><th></th><th scope=col>Start.Time</th><th scope=col>End.Time</th><th scope=col>Trip.Duration</th><th scope=col>Start.Station</th><th scope=col>End.Station</th><th scope=col>User.Type</th></tr></thead>\n",
       "<tbody>\n",
       "\t<tr><th scope=row>1621326</th><td>2017-06-21 08:36:34                                                                            </td><td>2017-06-21 08:44:43                                                                            </td><td> 489.066                                                                                       </td><td><span style=white-space:pre-wrap>14th &amp; Belmont St NW                       </span>        </td><td><span style=white-space:pre-wrap>15th &amp; K St NW                                     </span></td><td>Subscriber                                                                                     </td></tr>\n",
       "\t<tr><th scope=row>482740</th><td>2017-03-11 10:40:00                                                                            </td><td>2017-03-11 10:46:00                                                                            </td><td> 402.549                                                                                       </td><td><span style=white-space:pre-wrap>Yuma St &amp; Tenley Circle NW                 </span>        </td><td><span style=white-space:pre-wrap>Connecticut Ave &amp; Yuma St NW                       </span></td><td>Subscriber                                                                                     </td></tr>\n",
       "\t<tr><th scope=row>1330037</th><td>2017-05-30 01:02:59                                                                            </td><td>2017-05-30 01:13:37                                                                            </td><td> 637.251                                                                                       </td><td><span style=white-space:pre-wrap>17th St &amp; Massachusetts Ave NW             </span>        </td><td><span style=white-space:pre-wrap>5th &amp; K St NW                                      </span></td><td>Subscriber                                                                                     </td></tr>\n",
       "\t<tr><th scope=row>665458</th><td>2017-04-02 07:48:35                                                                            </td><td>2017-04-02 08:19:03                                                                            </td><td>1827.341                                                                                       </td><td><span style=white-space:pre-wrap>Constitution Ave &amp; 2nd St NW/DOL           </span>        </td><td><span style=white-space:pre-wrap>M St &amp; Pennsylvania Ave NW                         </span></td><td><span style=white-space:pre-wrap>Customer  </span>                                             </td></tr>\n",
       "\t<tr><th scope=row>1481135</th><td>2017-06-10 08:36:28                                                                            </td><td>2017-06-10 09:02:17                                                                            </td><td>1549.427                                                                                       </td><td>Henry Bacon Dr &amp; Lincoln Memorial Circle NW                                                </td><td><span style=white-space:pre-wrap>Maine Ave &amp; 7th St SW                              </span></td><td>Subscriber                                                                                     </td></tr>\n",
       "\t<tr><th scope=row>1148202</th><td>2017-05-14 07:18:18                                                                    </td><td>2017-05-14 07:24:56                                                                    </td><td> 398.000                                                                               </td><td><span style=white-space:pre-wrap>1st &amp; K St SE                              </span></td><td>Eastern Market Metro / Pennsylvania Ave &amp; 7th St SE                                </td><td>Subscriber                                                                             </td></tr>\n",
       "</tbody>\n",
       "</table>\n"
      ],
      "text/latex": [
       "\\begin{tabular}{r|llllll}\n",
       "  & Start.Time & End.Time & Trip.Duration & Start.Station & End.Station & User.Type\\\\\n",
       "\\hline\n",
       "\t1621326 & 2017-06-21 08:36:34                                   & 2017-06-21 08:44:43                                   &  489.066                                              & 14th \\& Belmont St NW                                & 15th \\& K St NW                                      & Subscriber                                           \\\\\n",
       "\t482740 & 2017-03-11 10:40:00                                   & 2017-03-11 10:46:00                                   &  402.549                                              & Yuma St \\& Tenley Circle NW                          & Connecticut Ave \\& Yuma St NW                        & Subscriber                                           \\\\\n",
       "\t1330037 & 2017-05-30 01:02:59                                   & 2017-05-30 01:13:37                                   &  637.251                                              & 17th St \\& Massachusetts Ave NW                      & 5th \\& K St NW                                       & Subscriber                                           \\\\\n",
       "\t665458 & 2017-04-02 07:48:35                                   & 2017-04-02 08:19:03                                   & 1827.341                                              & Constitution Ave \\& 2nd St NW/DOL                    & M St \\& Pennsylvania Ave NW                          & Customer                                             \\\\\n",
       "\t1481135 & 2017-06-10 08:36:28                                   & 2017-06-10 09:02:17                                   & 1549.427                                              & Henry Bacon Dr \\& Lincoln Memorial Circle NW         & Maine Ave \\& 7th St SW                               & Subscriber                                           \\\\\n",
       "\t1148202 & 2017-05-14 07:18:18                                   & 2017-05-14 07:24:56                                   &  398.000                                              & 1st \\& K St SE                                       & Eastern Market Metro / Pennsylvania Ave \\& 7th St SE & Subscriber                                           \\\\\n",
       "\\end{tabular}\n"
      ],
      "text/markdown": [
       "\n",
       "| <!--/--> | Start.Time | End.Time | Trip.Duration | Start.Station | End.Station | User.Type |\n",
       "|---|---|---|---|---|---|---|\n",
       "| 1621326 | 2017-06-21 08:36:34                                 | 2017-06-21 08:44:43                                 |  489.066                                            | 14th & Belmont St NW                                | 15th & K St NW                                      | Subscriber                                          |\n",
       "| 482740 | 2017-03-11 10:40:00                                 | 2017-03-11 10:46:00                                 |  402.549                                            | Yuma St & Tenley Circle NW                          | Connecticut Ave & Yuma St NW                        | Subscriber                                          |\n",
       "| 1330037 | 2017-05-30 01:02:59                                 | 2017-05-30 01:13:37                                 |  637.251                                            | 17th St & Massachusetts Ave NW                      | 5th & K St NW                                       | Subscriber                                          |\n",
       "| 665458 | 2017-04-02 07:48:35                                 | 2017-04-02 08:19:03                                 | 1827.341                                            | Constitution Ave & 2nd St NW/DOL                    | M St & Pennsylvania Ave NW                          | Customer                                            |\n",
       "| 1481135 | 2017-06-10 08:36:28                                 | 2017-06-10 09:02:17                                 | 1549.427                                            | Henry Bacon Dr & Lincoln Memorial Circle NW         | Maine Ave & 7th St SW                               | Subscriber                                          |\n",
       "| 1148202 | 2017-05-14 07:18:18                                 | 2017-05-14 07:24:56                                 |  398.000                                            | 1st & K St SE                                       | Eastern Market Metro / Pennsylvania Ave & 7th St SE | Subscriber                                          |\n",
       "\n"
      ],
      "text/plain": [
       "        Start.Time          End.Time            Trip.Duration\n",
       "1621326 2017-06-21 08:36:34 2017-06-21 08:44:43  489.066     \n",
       "482740  2017-03-11 10:40:00 2017-03-11 10:46:00  402.549     \n",
       "1330037 2017-05-30 01:02:59 2017-05-30 01:13:37  637.251     \n",
       "665458  2017-04-02 07:48:35 2017-04-02 08:19:03 1827.341     \n",
       "1481135 2017-06-10 08:36:28 2017-06-10 09:02:17 1549.427     \n",
       "1148202 2017-05-14 07:18:18 2017-05-14 07:24:56  398.000     \n",
       "        Start.Station                              \n",
       "1621326 14th & Belmont St NW                       \n",
       "482740  Yuma St & Tenley Circle NW                 \n",
       "1330037 17th St & Massachusetts Ave NW             \n",
       "665458  Constitution Ave & 2nd St NW/DOL           \n",
       "1481135 Henry Bacon Dr & Lincoln Memorial Circle NW\n",
       "1148202 1st & K St SE                              \n",
       "        End.Station                                         User.Type \n",
       "1621326 15th & K St NW                                      Subscriber\n",
       "482740  Connecticut Ave & Yuma St NW                        Subscriber\n",
       "1330037 5th & K St NW                                       Subscriber\n",
       "665458  M St & Pennsylvania Ave NW                          Customer  \n",
       "1481135 Maine Ave & 7th St SW                               Subscriber\n",
       "1148202 Eastern Market Metro / Pennsylvania Ave & 7th St SE Subscriber"
      ]
     },
     "metadata": {},
     "output_type": "display_data"
    }
   ],
   "source": [
    "# display top 6 rows \n",
    "head(wash)"
   ]
  },
  {
   "cell_type": "code",
   "execution_count": 5,
   "metadata": {},
   "outputs": [
    {
     "data": {
      "text/html": [
       "<table>\n",
       "<thead><tr><th></th><th scope=col>Start.Time</th><th scope=col>End.Time</th><th scope=col>Trip.Duration</th><th scope=col>Start.Station</th><th scope=col>End.Station</th><th scope=col>User.Type</th><th scope=col>Gender</th><th scope=col>Birth.Year</th></tr></thead>\n",
       "<tbody>\n",
       "\t<tr><th scope=row>1423854</th><td>2017-06-23 15:09:32                                                      </td><td>2017-06-23 15:14:53                                                      </td><td> 321                                                                     </td><td><span style=white-space:pre-wrap>Wood St &amp; Hubbard St         </span></td><td><span style=white-space:pre-wrap>Damen Ave &amp; Chicago Ave     </span> </td><td>Subscriber                                                               </td><td><span style=white-space:pre-wrap>Male  </span>                           </td><td>1992                                                                     </td></tr>\n",
       "\t<tr><th scope=row>955915</th><td>2017-05-25 18:19:03                                                  </td><td>2017-05-25 18:45:53                                                  </td><td>1610                                                                 </td><td><span style=white-space:pre-wrap>Theater on the Lake          </span></td><td>Sheffield Ave &amp; Waveland Ave                                     </td><td>Subscriber                                                           </td><td>Female                                                               </td><td>1992                                                                 </td></tr>\n",
       "\t<tr><th scope=row>9031</th><td>2017-01-04 08:27:49                                                      </td><td>2017-01-04 08:34:45                                                      </td><td> 416                                                                     </td><td><span style=white-space:pre-wrap>May St &amp; Taylor St           </span></td><td><span style=white-space:pre-wrap>Wood St &amp; Taylor St         </span> </td><td>Subscriber                                                               </td><td><span style=white-space:pre-wrap>Male  </span>                           </td><td>1981                                                                     </td></tr>\n",
       "\t<tr><th scope=row>304487</th><td>2017-03-06 13:49:38                           </td><td>2017-03-06 13:55:28                           </td><td> 350                                          </td><td>Christiana Ave &amp; Lawrence Ave             </td><td>St. Louis Ave &amp; Balmoral Ave              </td><td>Subscriber                                    </td><td><span style=white-space:pre-wrap>Male  </span></td><td>1986                                          </td></tr>\n",
       "\t<tr><th scope=row>45207</th><td>2017-01-17 14:53:07                                                      </td><td>2017-01-17 15:02:01                                                      </td><td> 534                                                                     </td><td><span style=white-space:pre-wrap>Clark St &amp; Randolph St       </span></td><td>Desplaines St &amp; Jackson Blvd                                         </td><td>Subscriber                                                               </td><td><span style=white-space:pre-wrap>Male  </span>                           </td><td>1975                                                                     </td></tr>\n",
       "\t<tr><th scope=row>1473887</th><td>2017-06-26 09:01:20                                                     </td><td>2017-06-26 09:11:06                                                     </td><td> 586                                                                    </td><td>Clinton St &amp; Washington Blvd                                        </td><td><span style=white-space:pre-wrap>Canal St &amp; Taylor St        </span></td><td>Subscriber                                                              </td><td><span style=white-space:pre-wrap>Male  </span>                          </td><td>1990                                                                    </td></tr>\n",
       "</tbody>\n",
       "</table>\n"
      ],
      "text/latex": [
       "\\begin{tabular}{r|llllllll}\n",
       "  & Start.Time & End.Time & Trip.Duration & Start.Station & End.Station & User.Type & Gender & Birth.Year\\\\\n",
       "\\hline\n",
       "\t1423854 & 2017-06-23 15:09:32             & 2017-06-23 15:14:53             &  321                            & Wood St \\& Hubbard St          & Damen Ave \\& Chicago Ave       & Subscriber                      & Male                            & 1992                           \\\\\n",
       "\t955915 & 2017-05-25 18:19:03            & 2017-05-25 18:45:53            & 1610                           & Theater on the Lake            & Sheffield Ave \\& Waveland Ave & Subscriber                     & Female                         & 1992                          \\\\\n",
       "\t9031 & 2017-01-04 08:27:49             & 2017-01-04 08:34:45             &  416                            & May St \\& Taylor St            & Wood St \\& Taylor St           & Subscriber                      & Male                            & 1981                           \\\\\n",
       "\t304487 & 2017-03-06 13:49:38             & 2017-03-06 13:55:28             &  350                            & Christiana Ave \\& Lawrence Ave & St. Louis Ave \\& Balmoral Ave  & Subscriber                      & Male                            & 1986                           \\\\\n",
       "\t45207 & 2017-01-17 14:53:07             & 2017-01-17 15:02:01             &  534                            & Clark St \\& Randolph St        & Desplaines St \\& Jackson Blvd  & Subscriber                      & Male                            & 1975                           \\\\\n",
       "\t1473887 & 2017-06-26 09:01:20             & 2017-06-26 09:11:06             &  586                            & Clinton St \\& Washington Blvd  & Canal St \\& Taylor St          & Subscriber                      & Male                            & 1990                           \\\\\n",
       "\\end{tabular}\n"
      ],
      "text/markdown": [
       "\n",
       "| <!--/--> | Start.Time | End.Time | Trip.Duration | Start.Station | End.Station | User.Type | Gender | Birth.Year |\n",
       "|---|---|---|---|---|---|---|---|---|\n",
       "| 1423854 | 2017-06-23 15:09:32           | 2017-06-23 15:14:53           |  321                          | Wood St & Hubbard St          | Damen Ave & Chicago Ave       | Subscriber                    | Male                          | 1992                          |\n",
       "| 955915 | 2017-05-25 18:19:03           | 2017-05-25 18:45:53           | 1610                          | Theater on the Lake           | Sheffield Ave & Waveland Ave  | Subscriber                    | Female                        | 1992                          |\n",
       "| 9031 | 2017-01-04 08:27:49           | 2017-01-04 08:34:45           |  416                          | May St & Taylor St            | Wood St & Taylor St           | Subscriber                    | Male                          | 1981                          |\n",
       "| 304487 | 2017-03-06 13:49:38           | 2017-03-06 13:55:28           |  350                          | Christiana Ave & Lawrence Ave | St. Louis Ave & Balmoral Ave  | Subscriber                    | Male                          | 1986                          |\n",
       "| 45207 | 2017-01-17 14:53:07           | 2017-01-17 15:02:01           |  534                          | Clark St & Randolph St        | Desplaines St & Jackson Blvd  | Subscriber                    | Male                          | 1975                          |\n",
       "| 1473887 | 2017-06-26 09:01:20           | 2017-06-26 09:11:06           |  586                          | Clinton St & Washington Blvd  | Canal St & Taylor St          | Subscriber                    | Male                          | 1990                          |\n",
       "\n"
      ],
      "text/plain": [
       "        Start.Time          End.Time            Trip.Duration\n",
       "1423854 2017-06-23 15:09:32 2017-06-23 15:14:53  321         \n",
       "955915  2017-05-25 18:19:03 2017-05-25 18:45:53 1610         \n",
       "9031    2017-01-04 08:27:49 2017-01-04 08:34:45  416         \n",
       "304487  2017-03-06 13:49:38 2017-03-06 13:55:28  350         \n",
       "45207   2017-01-17 14:53:07 2017-01-17 15:02:01  534         \n",
       "1473887 2017-06-26 09:01:20 2017-06-26 09:11:06  586         \n",
       "        Start.Station                 End.Station                  User.Type \n",
       "1423854 Wood St & Hubbard St          Damen Ave & Chicago Ave      Subscriber\n",
       "955915  Theater on the Lake           Sheffield Ave & Waveland Ave Subscriber\n",
       "9031    May St & Taylor St            Wood St & Taylor St          Subscriber\n",
       "304487  Christiana Ave & Lawrence Ave St. Louis Ave & Balmoral Ave Subscriber\n",
       "45207   Clark St & Randolph St        Desplaines St & Jackson Blvd Subscriber\n",
       "1473887 Clinton St & Washington Blvd  Canal St & Taylor St         Subscriber\n",
       "        Gender Birth.Year\n",
       "1423854 Male   1992      \n",
       "955915  Female 1992      \n",
       "9031    Male   1981      \n",
       "304487  Male   1986      \n",
       "45207   Male   1975      \n",
       "1473887 Male   1990      "
      ]
     },
     "metadata": {},
     "output_type": "display_data"
    }
   ],
   "source": [
    "# display top 6 rows \n",
    "head(chi)"
   ]
  },
  {
   "cell_type": "code",
   "execution_count": 6,
   "metadata": {},
   "outputs": [],
   "source": [
    "# before moving on, let's set the default width and height for the plots.\n",
    "options(repr.plot.width = 9, repr.plot.height = 4)"
   ]
  },
  {
   "cell_type": "markdown",
   "metadata": {},
   "source": [
    "### Question 1\n",
    "\n",
    "\n",
    "### What is the most common start station?"
   ]
  },
  {
   "cell_type": "markdown",
   "metadata": {},
   "source": [
    "**Defining a function that will generate the plot.**"
   ]
  },
  {
   "cell_type": "code",
   "execution_count": 7,
   "metadata": {},
   "outputs": [],
   "source": [
    "# define a function that takes data(dataframe) and city(character) to plot the chart between start station and total trips \n",
    "# taken from that station.\n",
    "start_station_plot_viz <- function(data, city) {\n",
    "  main <- sprintf('Most Popular Start Stations by Trip Count: %s', city)\n",
    "  xlabel <- 'Start Station'\n",
    "  ylabel <- 'Total Trips'\n",
    "  p <- ggplot(data, aes(Start.Station, total_trips)) +\n",
    "    geom_bar(stat = 'identity',\n",
    "             fill = 'cyan',\n",
    "             width = 0.5) +\n",
    "    ggtitle(main) + \n",
    "    xlab(xlabel) +\n",
    "    ylab(ylabel) +\n",
    "    theme_minimal() + \n",
    "    coord_flip()\n",
    "  return(p)\n",
    "}"
   ]
  },
  {
   "cell_type": "markdown",
   "metadata": {},
   "source": [
    "**Defining a function that will take the dataset as an argument, group by start station and summarize by count of trips and return the top 10 observations.**"
   ]
  },
  {
   "cell_type": "code",
   "execution_count": 8,
   "metadata": {},
   "outputs": [],
   "source": [
    "# define a function that will take the data(dataframe) and aggregate it by start station to find the count\n",
    "most_common_start_station <- function(data) {\n",
    "  data %>%\n",
    "    select(Start.Station) %>%\n",
    "    group_by(Start.Station) %>%\n",
    "    summarise(total_trips = n()) %>%\n",
    "    arrange(desc(total_trips)) %>%\n",
    "    as.data.frame() %>%\n",
    "    head(10)\n",
    "}"
   ]
  },
  {
   "cell_type": "code",
   "execution_count": 9,
   "metadata": {},
   "outputs": [
    {
     "data": {
      "text/html": [
       "<table>\n",
       "<thead><tr><th scope=col>Start.Station</th><th scope=col>total_trips</th></tr></thead>\n",
       "<tbody>\n",
       "\t<tr><td>Pershing Square North</td><td>592                  </td></tr>\n",
       "\t<tr><td><span style=white-space:pre-wrap>W 21 St &amp; 6 Ave      </span></td><td>385                                                              </td></tr>\n",
       "\t<tr><td><span style=white-space:pre-wrap>Broadway &amp; E 22 St   </span></td><td>383                                                              </td></tr>\n",
       "\t<tr><td><span style=white-space:pre-wrap>E 17 St &amp; Broadway   </span></td><td>380                                                              </td></tr>\n",
       "\t<tr><td>West St &amp; Chambers St</td><td>364                      </td></tr>\n",
       "\t<tr><td><span style=white-space:pre-wrap>W 20 St &amp; 11 Ave     </span></td><td>329                                                              </td></tr>\n",
       "\t<tr><td><span style=white-space:pre-wrap>8 Ave &amp; W 31 St      </span></td><td>316                                                              </td></tr>\n",
       "\t<tr><td><span style=white-space:pre-wrap>8 Ave &amp; W 33 St      </span></td><td>302                                                              </td></tr>\n",
       "\t<tr><td><span style=white-space:pre-wrap>W 41 St &amp; 8 Ave      </span></td><td>292                                                              </td></tr>\n",
       "\t<tr><td>Greenwich Ave &amp; 8 Ave</td><td>288                      </td></tr>\n",
       "</tbody>\n",
       "</table>\n"
      ],
      "text/latex": [
       "\\begin{tabular}{r|ll}\n",
       " Start.Station & total\\_trips\\\\\n",
       "\\hline\n",
       "\t Pershing Square North & 592                  \\\\\n",
       "\t W 21 St \\& 6 Ave       & 385                    \\\\\n",
       "\t Broadway \\& E 22 St    & 383                    \\\\\n",
       "\t E 17 St \\& Broadway    & 380                    \\\\\n",
       "\t West St \\& Chambers St & 364                    \\\\\n",
       "\t W 20 St \\& 11 Ave      & 329                    \\\\\n",
       "\t 8 Ave \\& W 31 St       & 316                    \\\\\n",
       "\t 8 Ave \\& W 33 St       & 302                    \\\\\n",
       "\t W 41 St \\& 8 Ave       & 292                    \\\\\n",
       "\t Greenwich Ave \\& 8 Ave & 288                    \\\\\n",
       "\\end{tabular}\n"
      ],
      "text/markdown": [
       "\n",
       "| Start.Station | total_trips |\n",
       "|---|---|\n",
       "| Pershing Square North | 592                   |\n",
       "| W 21 St & 6 Ave       | 385                   |\n",
       "| Broadway & E 22 St    | 383                   |\n",
       "| E 17 St & Broadway    | 380                   |\n",
       "| West St & Chambers St | 364                   |\n",
       "| W 20 St & 11 Ave      | 329                   |\n",
       "| 8 Ave & W 31 St       | 316                   |\n",
       "| 8 Ave & W 33 St       | 302                   |\n",
       "| W 41 St & 8 Ave       | 292                   |\n",
       "| Greenwich Ave & 8 Ave | 288                   |\n",
       "\n"
      ],
      "text/plain": [
       "   Start.Station         total_trips\n",
       "1  Pershing Square North 592        \n",
       "2  W 21 St & 6 Ave       385        \n",
       "3  Broadway & E 22 St    383        \n",
       "4  E 17 St & Broadway    380        \n",
       "5  West St & Chambers St 364        \n",
       "6  W 20 St & 11 Ave      329        \n",
       "7  8 Ave & W 31 St       316        \n",
       "8  8 Ave & W 33 St       302        \n",
       "9  W 41 St & 8 Ave       292        \n",
       "10 Greenwich Ave & 8 Ave 288        "
      ]
     },
     "metadata": {},
     "output_type": "display_data"
    },
    {
     "data": {
      "image/png": "[encoded data removed]",
      "text/plain": [
       "plot without title"
      ]
     },
     "metadata": {},
     "output_type": "display_data"
    }
   ],
   "source": [
    "# for New York dataset\n",
    "\n",
    "# call most_common_start_function to get the data\n",
    "ny_most_common_start_station <- most_common_start_station(ny)\n",
    "\n",
    "# print the data\n",
    "ny_most_common_start_station\n",
    "\n",
    "# generate the plot\n",
    "start_station_plot_viz(ny_most_common_start_station, 'New York')"
   ]
  },
  {
   "cell_type": "code",
   "execution_count": 10,
   "metadata": {},
   "outputs": [
    {
     "data": {
      "text/html": [
       "<table>\n",
       "<thead><tr><th scope=col>Start.Station</th><th scope=col>total_trips</th></tr></thead>\n",
       "<tbody>\n",
       "\t<tr><td><span style=white-space:pre-wrap>Streeter Dr &amp; Grand Ave     </span></td><td>210                                                                     </td></tr>\n",
       "\t<tr><td><span style=white-space:pre-wrap>Lake Shore Dr &amp; Monroe St   </span></td><td>140                                                                     </td></tr>\n",
       "\t<tr><td>Clinton St &amp; Washington Blvd</td><td>120                             </td></tr>\n",
       "\t<tr><td><span style=white-space:pre-wrap>Clinton St &amp; Madison St     </span></td><td>102                                                                     </td></tr>\n",
       "\t<tr><td><span style=white-space:pre-wrap>Canal St &amp; Adams St         </span></td><td>101                                                                     </td></tr>\n",
       "\t<tr><td><span style=white-space:pre-wrap>Michigan Ave &amp; Oak St       </span></td><td> 98                                                                     </td></tr>\n",
       "\t<tr><td><span style=white-space:pre-wrap>Canal St &amp; Madison St       </span></td><td> 87                                                                     </td></tr>\n",
       "\t<tr><td><span style=white-space:pre-wrap>Columbus Dr &amp; Randolph St   </span></td><td> 85                                                                     </td></tr>\n",
       "\t<tr><td><span style=white-space:pre-wrap>Lake Shore Dr &amp; North Blvd  </span></td><td> 85                                                                     </td></tr>\n",
       "\t<tr><td><span style=white-space:pre-wrap>Franklin St &amp; Monroe St     </span></td><td> 81                                                                     </td></tr>\n",
       "</tbody>\n",
       "</table>\n"
      ],
      "text/latex": [
       "\\begin{tabular}{r|ll}\n",
       " Start.Station & total\\_trips\\\\\n",
       "\\hline\n",
       "\t Streeter Dr \\& Grand Ave      & 210                           \\\\\n",
       "\t Lake Shore Dr \\& Monroe St    & 140                           \\\\\n",
       "\t Clinton St \\& Washington Blvd & 120                           \\\\\n",
       "\t Clinton St \\& Madison St      & 102                           \\\\\n",
       "\t Canal St \\& Adams St          & 101                           \\\\\n",
       "\t Michigan Ave \\& Oak St        &  98                           \\\\\n",
       "\t Canal St \\& Madison St        &  87                           \\\\\n",
       "\t Columbus Dr \\& Randolph St    &  85                           \\\\\n",
       "\t Lake Shore Dr \\& North Blvd   &  85                           \\\\\n",
       "\t Franklin St \\& Monroe St      &  81                           \\\\\n",
       "\\end{tabular}\n"
      ],
      "text/markdown": [
       "\n",
       "| Start.Station | total_trips |\n",
       "|---|---|\n",
       "| Streeter Dr & Grand Ave      | 210                          |\n",
       "| Lake Shore Dr & Monroe St    | 140                          |\n",
       "| Clinton St & Washington Blvd | 120                          |\n",
       "| Clinton St & Madison St      | 102                          |\n",
       "| Canal St & Adams St          | 101                          |\n",
       "| Michigan Ave & Oak St        |  98                          |\n",
       "| Canal St & Madison St        |  87                          |\n",
       "| Columbus Dr & Randolph St    |  85                          |\n",
       "| Lake Shore Dr & North Blvd   |  85                          |\n",
       "| Franklin St & Monroe St      |  81                          |\n",
       "\n"
      ],
      "text/plain": [
       "   Start.Station                total_trips\n",
       "1  Streeter Dr & Grand Ave      210        \n",
       "2  Lake Shore Dr & Monroe St    140        \n",
       "3  Clinton St & Washington Blvd 120        \n",
       "4  Clinton St & Madison St      102        \n",
       "5  Canal St & Adams St          101        \n",
       "6  Michigan Ave & Oak St         98        \n",
       "7  Canal St & Madison St         87        \n",
       "8  Columbus Dr & Randolph St     85        \n",
       "9  Lake Shore Dr & North Blvd    85        \n",
       "10 Franklin St & Monroe St       81        "
      ]
     },
     "metadata": {},
     "output_type": "display_data"
    },
    {
     "data": {
      "image/png": "[encoded data removed]",
      "text/plain": [
       "plot without title"
      ]
     },
     "metadata": {},
     "output_type": "display_data"
    }
   ],
   "source": [
    "# for Chicago dataset\n",
    "\n",
    "# call most_common_start_function to get the data\n",
    "chi_most_common_start_station <- most_common_start_station(chi)\n",
    "\n",
    "# print the data\n",
    "chi_most_common_start_station\n",
    "\n",
    "# generate the plot\n",
    "start_station_plot_viz(chi_most_common_start_station, 'Chicago')"
   ]
  },
  {
   "cell_type": "code",
   "execution_count": 11,
   "metadata": {},
   "outputs": [
    {
     "data": {
      "text/html": [
       "<table>\n",
       "<thead><tr><th scope=col>Start.Station</th><th scope=col>total_trips</th></tr></thead>\n",
       "<tbody>\n",
       "\t<tr><td>Columbus Circle / Union Station                      </td><td>1700                                                 </td></tr>\n",
       "\t<tr><td>Lincoln Memorial                                     </td><td>1546                                                 </td></tr>\n",
       "\t<tr><td><span style=white-space:pre-wrap>Jefferson Dr &amp; 14th St SW                            </span></td><td>1488                                                                                             </td></tr>\n",
       "\t<tr><td><span style=white-space:pre-wrap>Massachusetts Ave &amp; Dupont Circle NW                 </span></td><td>1219                                                                                             </td></tr>\n",
       "\t<tr><td>Jefferson Memorial                                   </td><td>1068                                                 </td></tr>\n",
       "\t<tr><td><span style=white-space:pre-wrap>15th &amp; P St NW                                       </span></td><td>1040                                                                                             </td></tr>\n",
       "\t<tr><td>Smithsonian-National Mall / Jefferson Dr &amp; 12th St SW</td><td>1010                                                     </td></tr>\n",
       "\t<tr><td><span style=white-space:pre-wrap>Henry Bacon Dr &amp; Lincoln Memorial Circle NW          </span></td><td> 910                                                                                             </td></tr>\n",
       "\t<tr><td><span style=white-space:pre-wrap>4th St &amp; Madison Dr NW                               </span></td><td> 894                                                                                             </td></tr>\n",
       "\t<tr><td><span style=white-space:pre-wrap>Eastern Market Metro / Pennsylvania Ave &amp; 7th St SE  </span></td><td> 823                                                                                             </td></tr>\n",
       "</tbody>\n",
       "</table>\n"
      ],
      "text/latex": [
       "\\begin{tabular}{r|ll}\n",
       " Start.Station & total\\_trips\\\\\n",
       "\\hline\n",
       "\t Columbus Circle / Union Station                       & 1700                                                 \\\\\n",
       "\t Lincoln Memorial                                      & 1546                                                 \\\\\n",
       "\t Jefferson Dr \\& 14th St SW                             & 1488                                                   \\\\\n",
       "\t Massachusetts Ave \\& Dupont Circle NW                  & 1219                                                   \\\\\n",
       "\t Jefferson Memorial                                    & 1068                                                 \\\\\n",
       "\t 15th \\& P St NW                                        & 1040                                                   \\\\\n",
       "\t Smithsonian-National Mall / Jefferson Dr \\& 12th St SW & 1010                                                   \\\\\n",
       "\t Henry Bacon Dr \\& Lincoln Memorial Circle NW           &  910                                                   \\\\\n",
       "\t 4th St \\& Madison Dr NW                                &  894                                                   \\\\\n",
       "\t Eastern Market Metro / Pennsylvania Ave \\& 7th St SE   &  823                                                   \\\\\n",
       "\\end{tabular}\n"
      ],
      "text/markdown": [
       "\n",
       "| Start.Station | total_trips |\n",
       "|---|---|\n",
       "| Columbus Circle / Union Station                       | 1700                                                  |\n",
       "| Lincoln Memorial                                      | 1546                                                  |\n",
       "| Jefferson Dr & 14th St SW                             | 1488                                                  |\n",
       "| Massachusetts Ave & Dupont Circle NW                  | 1219                                                  |\n",
       "| Jefferson Memorial                                    | 1068                                                  |\n",
       "| 15th & P St NW                                        | 1040                                                  |\n",
       "| Smithsonian-National Mall / Jefferson Dr & 12th St SW | 1010                                                  |\n",
       "| Henry Bacon Dr & Lincoln Memorial Circle NW           |  910                                                  |\n",
       "| 4th St & Madison Dr NW                                |  894                                                  |\n",
       "| Eastern Market Metro / Pennsylvania Ave & 7th St SE   |  823                                                  |\n",
       "\n"
      ],
      "text/plain": [
       "   Start.Station                                         total_trips\n",
       "1  Columbus Circle / Union Station                       1700       \n",
       "2  Lincoln Memorial                                      1546       \n",
       "3  Jefferson Dr & 14th St SW                             1488       \n",
       "4  Massachusetts Ave & Dupont Circle NW                  1219       \n",
       "5  Jefferson Memorial                                    1068       \n",
       "6  15th & P St NW                                        1040       \n",
       "7  Smithsonian-National Mall / Jefferson Dr & 12th St SW 1010       \n",
       "8  Henry Bacon Dr & Lincoln Memorial Circle NW            910       \n",
       "9  4th St & Madison Dr NW                                 894       \n",
       "10 Eastern Market Metro / Pennsylvania Ave & 7th St SE    823       "
      ]
     },
     "metadata": {},
     "output_type": "display_data"
    },
    {
     "data": {
      "image/png": "[encoded data removed]",
      "text/plain": [
       "plot without title"
      ]
     },
     "metadata": {},
     "output_type": "display_data"
    }
   ],
   "source": [
    "# for Washington dataset\n",
    "\n",
    "# call most_common_start_function to get the data\n",
    "wash_most_common_start_station <- most_common_start_station(wash)\n",
    "\n",
    "# print the data\n",
    "wash_most_common_start_station\n",
    "\n",
    "# generate the plot\n",
    "start_station_plot_viz(wash_most_common_start_station, 'Washington DC')"
   ]
  },
  {
   "cell_type": "markdown",
   "metadata": {},
   "source": [
    "### Question 2\n",
    "\n",
    "### **What is the average trip duration for each city?**"
   ]
  },
  {
   "cell_type": "markdown",
   "metadata": {},
   "source": [
    "**Defining a function that will return the average trip duration in minutes.**"
   ]
  },
  {
   "cell_type": "code",
   "execution_count": 12,
   "metadata": {},
   "outputs": [],
   "source": [
    "# define a function that will take the data(dataframe) and find the average trip duration\n",
    "avg_trip_duration <- function(data) {\n",
    "  avg_duration_secs <- mean(data$Trip.Duration, na.rm = T)\n",
    "  avg_duration_mins <- avg_duration_secs / 60\n",
    "  return(round(avg_duration_mins, 1))\n",
    "}"
   ]
  },
  {
   "cell_type": "code",
   "execution_count": 13,
   "metadata": {},
   "outputs": [
    {
     "name": "stdout",
     "output_type": "stream",
     "text": [
      "Average trip duration in Chicago: 15.6 minutes"
     ]
    }
   ],
   "source": [
    "# for Chicago Dataset\n",
    "cat(\"Average trip duration in Chicago:\", avg_trip_duration(chi), 'minutes')"
   ]
  },
  {
   "cell_type": "code",
   "execution_count": 14,
   "metadata": {},
   "outputs": [
    {
     "name": "stdout",
     "output_type": "stream",
     "text": [
      "Average trip duration in New York: 15.1 minutes"
     ]
    }
   ],
   "source": [
    "# for New York Dataset\n",
    "cat(\"Average trip duration in New York:\", avg_trip_duration(ny), 'minutes')"
   ]
  },
  {
   "cell_type": "code",
   "execution_count": 15,
   "metadata": {},
   "outputs": [
    {
     "name": "stdout",
     "output_type": "stream",
     "text": [
      "Average trip duration in Washington: 20.6 minutes"
     ]
    }
   ],
   "source": [
    "# for Washington Dataset\n",
    "cat(\"Average trip duration in Washington:\", avg_trip_duration(wash), 'minutes')"
   ]
  },
  {
   "cell_type": "markdown",
   "metadata": {},
   "source": [
    "### Summary\n",
    "Here we can see that Washington tops the list with highest average trip duration."
   ]
  },
  {
   "cell_type": "markdown",
   "metadata": {},
   "source": [
    "<hr>"
   ]
  },
  {
   "cell_type": "markdown",
   "metadata": {},
   "source": [
    "### Question 3\n",
    "### **What is the most common hour of day?**"
   ]
  },
  {
   "cell_type": "markdown",
   "metadata": {},
   "source": [
    "**Defining a function that will generate the plot.**"
   ]
  },
  {
   "cell_type": "code",
   "execution_count": 16,
   "metadata": {},
   "outputs": [],
   "source": [
    "# define a function that takes data(dataframe) and city(character) to plot the chart between hour and total trips occurred in\n",
    "# that hour.\n",
    "hour_count_plot_viz <- function(data, city) {\n",
    "  main <- sprintf('Trip Count by Hour of the Day: %s', city)\n",
    "  xlabel <- 'Hour of the Day'\n",
    "  ylabel <- 'Total Trips'\n",
    "  p <- ggplot(data, aes(hour, total_trips)) +\n",
    "    geom_bar(stat = 'identity',\n",
    "             fill = 'green',\n",
    "             width = 0.4) +\n",
    "    ggtitle(main) + \n",
    "    xlab(xlabel) +\n",
    "    ylab(ylabel) +\n",
    "    theme_minimal()\n",
    "  return(p)\n",
    "}"
   ]
  },
  {
   "cell_type": "markdown",
   "metadata": {},
   "source": [
    "**Defining a function that will take dataset as an argument, group it by hour and summarize it by trip count and return the data generated.**"
   ]
  },
  {
   "cell_type": "code",
   "execution_count": 17,
   "metadata": {},
   "outputs": [],
   "source": [
    "# define a function that will take the data(dataframe) and aggregate it by hour to find the count\n",
    "most_common_hour = function(data) {\n",
    "  data %>%\n",
    "    group_by(hour) %>%\n",
    "    summarise(total_trips = n()) %>%\n",
    "    arrange(hour) %>%\n",
    "    as.data.frame() %>%\n",
    "    head(24)\n",
    "}"
   ]
  },
  {
   "cell_type": "markdown",
   "metadata": {},
   "source": [
    "Since the Start.Time in all the three dataframes are not in proper format, let's convert the Start.Time datatype and add a new column for hour of the day."
   ]
  },
  {
   "cell_type": "code",
   "execution_count": 18,
   "metadata": {},
   "outputs": [],
   "source": [
    "# for New York dataset\n",
    "ny$Start.Time = as.POSIXct(ny$Start.Time, format=\"%Y-%m-%d %H:%M:%S\")\n",
    "hour = hour(ny$Start.Time)\n",
    "ny = cbind(ny, hour=hour)\n",
    "\n",
    "# for Washington dataset\n",
    "wash$Start.Time = as.POSIXct(wash$Start.Time, format=\"%Y-%m-%d %H:%M:%S\")\n",
    "hour = hour(wash$Start.Time)\n",
    "wash = cbind(wash, hour=hour)\n",
    "\n",
    "# for Chicago Dataset dataset\n",
    "chi$Start.Time = as.POSIXct(chi$Start.Time, format=\"%Y-%m-%d %H:%M:%S\")\n",
    "hour = hour(chi$Start.Time)\n",
    "chi = cbind(chi, hour=hour)"
   ]
  },
  {
   "cell_type": "code",
   "execution_count": 19,
   "metadata": {},
   "outputs": [
    {
     "data": {
      "text/html": [
       "<table>\n",
       "<thead><tr><th scope=col>hour</th><th scope=col>total_trips</th></tr></thead>\n",
       "<tbody>\n",
       "\t<tr><td>0  </td><td> 55</td></tr>\n",
       "\t<tr><td>1  </td><td> 26</td></tr>\n",
       "\t<tr><td>2  </td><td> 18</td></tr>\n",
       "\t<tr><td>3  </td><td> 16</td></tr>\n",
       "\t<tr><td>4  </td><td> 17</td></tr>\n",
       "\t<tr><td>5  </td><td> 67</td></tr>\n",
       "\t<tr><td>6  </td><td>243</td></tr>\n",
       "\t<tr><td>7  </td><td>560</td></tr>\n",
       "\t<tr><td>8  </td><td>693</td></tr>\n",
       "\t<tr><td>9  </td><td>385</td></tr>\n",
       "</tbody>\n",
       "</table>\n"
      ],
      "text/latex": [
       "\\begin{tabular}{r|ll}\n",
       " hour & total\\_trips\\\\\n",
       "\\hline\n",
       "\t 0   &  55\\\\\n",
       "\t 1   &  26\\\\\n",
       "\t 2   &  18\\\\\n",
       "\t 3   &  16\\\\\n",
       "\t 4   &  17\\\\\n",
       "\t 5   &  67\\\\\n",
       "\t 6   & 243\\\\\n",
       "\t 7   & 560\\\\\n",
       "\t 8   & 693\\\\\n",
       "\t 9   & 385\\\\\n",
       "\\end{tabular}\n"
      ],
      "text/markdown": [
       "\n",
       "| hour | total_trips |\n",
       "|---|---|\n",
       "| 0   |  55 |\n",
       "| 1   |  26 |\n",
       "| 2   |  18 |\n",
       "| 3   |  16 |\n",
       "| 4   |  17 |\n",
       "| 5   |  67 |\n",
       "| 6   | 243 |\n",
       "| 7   | 560 |\n",
       "| 8   | 693 |\n",
       "| 9   | 385 |\n",
       "\n"
      ],
      "text/plain": [
       "   hour total_trips\n",
       "1  0     55        \n",
       "2  1     26        \n",
       "3  2     18        \n",
       "4  3     16        \n",
       "5  4     17        \n",
       "6  5     67        \n",
       "7  6    243        \n",
       "8  7    560        \n",
       "9  8    693        \n",
       "10 9    385        "
      ]
     },
     "metadata": {},
     "output_type": "display_data"
    },
    {
     "data": {
      "image/png": "[encoded data removed]",
      "text/plain": [
       "plot without title"
      ]
     },
     "metadata": {},
     "output_type": "display_data"
    }
   ],
   "source": [
    "# for Chicago dataset\n",
    "\n",
    "# call the most_common_hour function to get the data\n",
    "chi_most_common_hour <- most_common_hour(chi)\n",
    "\n",
    "# print the result\n",
    "head(chi_most_common_hour, 10)\n",
    "\n",
    "# generate the plot\n",
    "hour_count_plot_viz(chi_most_common_hour, 'Chicago')"
   ]
  },
  {
   "cell_type": "code",
   "execution_count": 20,
   "metadata": {},
   "outputs": [
    {
     "data": {
      "text/html": [
       "<table>\n",
       "<thead><tr><th scope=col>hour</th><th scope=col>total_trips</th></tr></thead>\n",
       "<tbody>\n",
       "\t<tr><td>0   </td><td> 436</td></tr>\n",
       "\t<tr><td>1   </td><td> 231</td></tr>\n",
       "\t<tr><td>2   </td><td> 152</td></tr>\n",
       "\t<tr><td>3   </td><td>  60</td></tr>\n",
       "\t<tr><td>4   </td><td>  84</td></tr>\n",
       "\t<tr><td>5   </td><td> 312</td></tr>\n",
       "\t<tr><td>6   </td><td>1212</td></tr>\n",
       "\t<tr><td>7   </td><td>2512</td></tr>\n",
       "\t<tr><td>8   </td><td>4337</td></tr>\n",
       "\t<tr><td>9   </td><td>3521</td></tr>\n",
       "</tbody>\n",
       "</table>\n"
      ],
      "text/latex": [
       "\\begin{tabular}{r|ll}\n",
       " hour & total\\_trips\\\\\n",
       "\\hline\n",
       "\t 0    &  436\\\\\n",
       "\t 1    &  231\\\\\n",
       "\t 2    &  152\\\\\n",
       "\t 3    &   60\\\\\n",
       "\t 4    &   84\\\\\n",
       "\t 5    &  312\\\\\n",
       "\t 6    & 1212\\\\\n",
       "\t 7    & 2512\\\\\n",
       "\t 8    & 4337\\\\\n",
       "\t 9    & 3521\\\\\n",
       "\\end{tabular}\n"
      ],
      "text/markdown": [
       "\n",
       "| hour | total_trips |\n",
       "|---|---|\n",
       "| 0    |  436 |\n",
       "| 1    |  231 |\n",
       "| 2    |  152 |\n",
       "| 3    |   60 |\n",
       "| 4    |   84 |\n",
       "| 5    |  312 |\n",
       "| 6    | 1212 |\n",
       "| 7    | 2512 |\n",
       "| 8    | 4337 |\n",
       "| 9    | 3521 |\n",
       "\n"
      ],
      "text/plain": [
       "   hour total_trips\n",
       "1  0     436       \n",
       "2  1     231       \n",
       "3  2     152       \n",
       "4  3      60       \n",
       "5  4      84       \n",
       "6  5     312       \n",
       "7  6    1212       \n",
       "8  7    2512       \n",
       "9  8    4337       \n",
       "10 9    3521       "
      ]
     },
     "metadata": {},
     "output_type": "display_data"
    },
    {
     "data": {
      "image/png": "[encoded data removed]",
      "text/plain": [
       "plot without title"
      ]
     },
     "metadata": {},
     "output_type": "display_data"
    }
   ],
   "source": [
    "# for New York dataset\n",
    "\n",
    "# call the most_common_hour function to get the data\n",
    "ny_most_common_hour <- most_common_hour(ny)\n",
    "\n",
    "# print the result\n",
    "head(ny_most_common_hour, 10)\n",
    "\n",
    "# generate the plot\n",
    "hour_count_plot_viz(ny_most_common_hour, 'New York')"
   ]
  },
  {
   "cell_type": "code",
   "execution_count": 21,
   "metadata": {},
   "outputs": [
    {
     "data": {
      "text/html": [
       "<table>\n",
       "<thead><tr><th scope=col>hour</th><th scope=col>total_trips</th></tr></thead>\n",
       "<tbody>\n",
       "\t<tr><td>0   </td><td> 227</td></tr>\n",
       "\t<tr><td>1   </td><td>3500</td></tr>\n",
       "\t<tr><td>2   </td><td>3421</td></tr>\n",
       "\t<tr><td>3   </td><td>3655</td></tr>\n",
       "\t<tr><td>4   </td><td>4541</td></tr>\n",
       "\t<tr><td>5   </td><td>6741</td></tr>\n",
       "\t<tr><td>6   </td><td>6994</td></tr>\n",
       "\t<tr><td>7   </td><td>8490</td></tr>\n",
       "\t<tr><td>8   </td><td>9805</td></tr>\n",
       "\t<tr><td>9   </td><td>5957</td></tr>\n",
       "</tbody>\n",
       "</table>\n"
      ],
      "text/latex": [
       "\\begin{tabular}{r|ll}\n",
       " hour & total\\_trips\\\\\n",
       "\\hline\n",
       "\t 0    &  227\\\\\n",
       "\t 1    & 3500\\\\\n",
       "\t 2    & 3421\\\\\n",
       "\t 3    & 3655\\\\\n",
       "\t 4    & 4541\\\\\n",
       "\t 5    & 6741\\\\\n",
       "\t 6    & 6994\\\\\n",
       "\t 7    & 8490\\\\\n",
       "\t 8    & 9805\\\\\n",
       "\t 9    & 5957\\\\\n",
       "\\end{tabular}\n"
      ],
      "text/markdown": [
       "\n",
       "| hour | total_trips |\n",
       "|---|---|\n",
       "| 0    |  227 |\n",
       "| 1    | 3500 |\n",
       "| 2    | 3421 |\n",
       "| 3    | 3655 |\n",
       "| 4    | 4541 |\n",
       "| 5    | 6741 |\n",
       "| 6    | 6994 |\n",
       "| 7    | 8490 |\n",
       "| 8    | 9805 |\n",
       "| 9    | 5957 |\n",
       "\n"
      ],
      "text/plain": [
       "   hour total_trips\n",
       "1  0     227       \n",
       "2  1    3500       \n",
       "3  2    3421       \n",
       "4  3    3655       \n",
       "5  4    4541       \n",
       "6  5    6741       \n",
       "7  6    6994       \n",
       "8  7    8490       \n",
       "9  8    9805       \n",
       "10 9    5957       "
      ]
     },
     "metadata": {},
     "output_type": "display_data"
    },
    {
     "data": {
      "image/png": "[encoded data removed]",
      "text/plain": [
       "plot without title"
      ]
     },
     "metadata": {},
     "output_type": "display_data"
    }
   ],
   "source": [
    "# for Washington dataset\n",
    "\n",
    "# call the most_common_hour function to get the data\n",
    "wash_most_common_hour <- most_common_hour(wash)\n",
    "\n",
    "# print the result\n",
    "head(wash_most_common_hour, 10)\n",
    "\n",
    "# generate the plot\n",
    "hour_count_plot_viz(wash_most_common_hour, 'Washington DC')"
   ]
  },
  {
   "cell_type": "markdown",
   "metadata": {},
   "source": [
    "### Summary\n",
    "Here we can see that in Chicago and New York, the busiest hour of the day is 5 PM while in Washington DC it is 8 AM."
   ]
  },
  {
   "cell_type": "markdown",
   "metadata": {},
   "source": [
    "<hr>"
   ]
  },
  {
   "cell_type": "markdown",
   "metadata": {},
   "source": [
    "### Question 4\n",
    "### **What is the most common trip from start to end (i.e., most frequent combination of start station and end station?**"
   ]
  },
  {
   "cell_type": "markdown",
   "metadata": {},
   "source": [
    "**Defining a function that will take dataset as an argument, group the data by combination of start and end station and return the top 10 observations.**"
   ]
  },
  {
   "cell_type": "code",
   "execution_count": 22,
   "metadata": {},
   "outputs": [],
   "source": [
    "# define a function that will take the data(dataframe) and aggregate it by start station and end station to find the most common\n",
    "# combination of start and end station\n",
    "most_common_trip <- function(data) {\n",
    "  data %>%\n",
    "    group_by(Start.Station, End.Station) %>%\n",
    "    summarise(total_trips = n()) %>%\n",
    "    arrange(desc(total_trips)) %>%\n",
    "    head(10)\n",
    "}"
   ]
  },
  {
   "cell_type": "code",
   "execution_count": 23,
   "metadata": {},
   "outputs": [
    {
     "data": {
      "text/html": [
       "<table>\n",
       "<thead><tr><th scope=col>Start.Station</th><th scope=col>End.Station</th><th scope=col>total_trips</th></tr></thead>\n",
       "<tbody>\n",
       "\t<tr><td>Lake Shore Dr &amp; Monroe St                                           </td><td><span style=white-space:pre-wrap>Streeter Dr &amp; Grand Ave     </span></td><td>32                                                                      </td></tr>\n",
       "\t<tr><td><span style=white-space:pre-wrap>Streeter Dr &amp; Grand Ave   </span>  </td><td><span style=white-space:pre-wrap>Streeter Dr &amp; Grand Ave     </span></td><td>32                                                                      </td></tr>\n",
       "\t<tr><td><span style=white-space:pre-wrap>Streeter Dr &amp; Grand Ave   </span>  </td><td><span style=white-space:pre-wrap>Lake Shore Dr &amp; North Blvd  </span></td><td>23                                                                      </td></tr>\n",
       "\t<tr><td>Lake Shore Dr &amp; North Blvd                                          </td><td><span style=white-space:pre-wrap>Streeter Dr &amp; Grand Ave     </span></td><td>17                                                                      </td></tr>\n",
       "\t<tr><td><span style=white-space:pre-wrap>Streeter Dr &amp; Grand Ave   </span></td><td><span style=white-space:pre-wrap>Theater on the Lake         </span>  </td><td>17                                                                    </td></tr>\n",
       "\t<tr><td><span style=white-space:pre-wrap>Streeter Dr &amp; Grand Ave   </span>  </td><td><span style=white-space:pre-wrap>Lake Shore Dr &amp; Monroe St   </span></td><td>15                                                                      </td></tr>\n",
       "\t<tr><td><span style=white-space:pre-wrap>Michigan Ave &amp; Oak St     </span>  </td><td><span style=white-space:pre-wrap>Streeter Dr &amp; Grand Ave     </span></td><td>14                                                                      </td></tr>\n",
       "\t<tr><td><span style=white-space:pre-wrap>Canal St &amp; Madison St     </span></td><td>Michigan Ave &amp; Washington St                                      </td><td>13                                                                    </td></tr>\n",
       "\t<tr><td>Lake Shore Dr &amp; Monroe St                                           </td><td><span style=white-space:pre-wrap>Lake Shore Dr &amp; Monroe St   </span></td><td>13                                                                      </td></tr>\n",
       "\t<tr><td><span style=white-space:pre-wrap>Adler Planetarium         </span>      </td><td><span style=white-space:pre-wrap>Lake Shore Dr &amp; Monroe St   </span></td><td>12                                                                      </td></tr>\n",
       "</tbody>\n",
       "</table>\n"
      ],
      "text/latex": [
       "\\begin{tabular}{r|lll}\n",
       " Start.Station & End.Station & total\\_trips\\\\\n",
       "\\hline\n",
       "\t Lake Shore Dr \\& Monroe St    & Streeter Dr \\& Grand Ave      & 32                            \\\\\n",
       "\t Streeter Dr \\& Grand Ave      & Streeter Dr \\& Grand Ave      & 32                            \\\\\n",
       "\t Streeter Dr \\& Grand Ave      & Lake Shore Dr \\& North Blvd   & 23                            \\\\\n",
       "\t Lake Shore Dr \\& North Blvd   & Streeter Dr \\& Grand Ave      & 17                            \\\\\n",
       "\t Streeter Dr \\& Grand Ave    & Theater on the Lake          & 17                          \\\\\n",
       "\t Streeter Dr \\& Grand Ave      & Lake Shore Dr \\& Monroe St    & 15                            \\\\\n",
       "\t Michigan Ave \\& Oak St        & Streeter Dr \\& Grand Ave      & 14                            \\\\\n",
       "\t Canal St \\& Madison St        & Michigan Ave \\& Washington St & 13                            \\\\\n",
       "\t Lake Shore Dr \\& Monroe St    & Lake Shore Dr \\& Monroe St    & 13                            \\\\\n",
       "\t Adler Planetarium              & Lake Shore Dr \\& Monroe St    & 12                            \\\\\n",
       "\\end{tabular}\n"
      ],
      "text/markdown": [
       "\n",
       "| Start.Station | End.Station | total_trips |\n",
       "|---|---|---|\n",
       "| Lake Shore Dr & Monroe St    | Streeter Dr & Grand Ave      | 32                           |\n",
       "| Streeter Dr & Grand Ave      | Streeter Dr & Grand Ave      | 32                           |\n",
       "| Streeter Dr & Grand Ave      | Lake Shore Dr & North Blvd   | 23                           |\n",
       "| Lake Shore Dr & North Blvd   | Streeter Dr & Grand Ave      | 17                           |\n",
       "| Streeter Dr & Grand Ave      | Theater on the Lake          | 17                           |\n",
       "| Streeter Dr & Grand Ave      | Lake Shore Dr & Monroe St    | 15                           |\n",
       "| Michigan Ave & Oak St        | Streeter Dr & Grand Ave      | 14                           |\n",
       "| Canal St & Madison St        | Michigan Ave & Washington St | 13                           |\n",
       "| Lake Shore Dr & Monroe St    | Lake Shore Dr & Monroe St    | 13                           |\n",
       "| Adler Planetarium            | Lake Shore Dr & Monroe St    | 12                           |\n",
       "\n"
      ],
      "text/plain": [
       "   Start.Station              End.Station                  total_trips\n",
       "1  Lake Shore Dr & Monroe St  Streeter Dr & Grand Ave      32         \n",
       "2  Streeter Dr & Grand Ave    Streeter Dr & Grand Ave      32         \n",
       "3  Streeter Dr & Grand Ave    Lake Shore Dr & North Blvd   23         \n",
       "4  Lake Shore Dr & North Blvd Streeter Dr & Grand Ave      17         \n",
       "5  Streeter Dr & Grand Ave    Theater on the Lake          17         \n",
       "6  Streeter Dr & Grand Ave    Lake Shore Dr & Monroe St    15         \n",
       "7  Michigan Ave & Oak St      Streeter Dr & Grand Ave      14         \n",
       "8  Canal St & Madison St      Michigan Ave & Washington St 13         \n",
       "9  Lake Shore Dr & Monroe St  Lake Shore Dr & Monroe St    13         \n",
       "10 Adler Planetarium          Lake Shore Dr & Monroe St    12         "
      ]
     },
     "metadata": {},
     "output_type": "display_data"
    }
   ],
   "source": [
    "# for Chicago dataset\n",
    "\n",
    "# call the most_common_trip function to get the data\n",
    "most_common_trip(chi)"
   ]
  },
  {
   "cell_type": "code",
   "execution_count": 24,
   "metadata": {},
   "outputs": [
    {
     "data": {
      "text/html": [
       "<table>\n",
       "<thead><tr><th scope=col>Start.Station</th><th scope=col>End.Station</th><th scope=col>total_trips</th></tr></thead>\n",
       "<tbody>\n",
       "\t<tr><td><span style=white-space:pre-wrap>E 7 St &amp; Avenue A                            </span></td><td><span style=white-space:pre-wrap>Cooper Square &amp; E 7 St                       </span></td><td>33                                                                                       </td></tr>\n",
       "\t<tr><td><span style=white-space:pre-wrap>Central Park S &amp; 6 Ave                       </span></td><td><span style=white-space:pre-wrap>Central Park S &amp; 6 Ave                       </span></td><td>31                                                                                       </td></tr>\n",
       "\t<tr><td><span style=white-space:pre-wrap>Centre St &amp; Chambers St                      </span></td><td><span style=white-space:pre-wrap>Centre St &amp; Chambers St                      </span></td><td>24                                                                                       </td></tr>\n",
       "\t<tr><td><span style=white-space:pre-wrap>Pershing Square North                        </span>    </td><td><span style=white-space:pre-wrap>W 33 St &amp; 7 Ave                              </span></td><td>24                                                                                       </td></tr>\n",
       "\t<tr><td><span style=white-space:pre-wrap>Pershing Square North                        </span>    </td><td><span style=white-space:pre-wrap>Broadway &amp; W 32 St                           </span></td><td>20                                                                                       </td></tr>\n",
       "\t<tr><td>Central Park North &amp; Adam Clayton Powell Blvd</td><td>Central Park North &amp; Adam Clayton Powell Blvd</td><td>18                                               </td></tr>\n",
       "\t<tr><td><span style=white-space:pre-wrap>Grand Army Plaza &amp; Central Park S            </span></td><td><span style=white-space:pre-wrap>Central Park S &amp; 6 Ave                       </span></td><td>18                                                                                       </td></tr>\n",
       "\t<tr><td><span style=white-space:pre-wrap>Vernon Blvd &amp; 50 Ave                         </span></td><td><span style=white-space:pre-wrap>McGuinness Blvd &amp; Eagle St                   </span></td><td>18                                                                                       </td></tr>\n",
       "\t<tr><td><span style=white-space:pre-wrap>Grand Army Plaza &amp; Central Park S            </span></td><td><span style=white-space:pre-wrap>Grand Army Plaza &amp; Central Park S            </span></td><td>17                                                                                       </td></tr>\n",
       "\t<tr><td><span style=white-space:pre-wrap>N 6 St &amp; Bedford Ave                         </span></td><td><span style=white-space:pre-wrap>Wythe Ave &amp; Metropolitan Ave                 </span></td><td>17                                                                                       </td></tr>\n",
       "</tbody>\n",
       "</table>\n"
      ],
      "text/latex": [
       "\\begin{tabular}{r|lll}\n",
       " Start.Station & End.Station & total\\_trips\\\\\n",
       "\\hline\n",
       "\t E 7 St \\& Avenue A                             & Cooper Square \\& E 7 St                        & 33                                             \\\\\n",
       "\t Central Park S \\& 6 Ave                        & Central Park S \\& 6 Ave                        & 31                                             \\\\\n",
       "\t Centre St \\& Chambers St                       & Centre St \\& Chambers St                       & 24                                             \\\\\n",
       "\t Pershing Square North                           & W 33 St \\& 7 Ave                               & 24                                             \\\\\n",
       "\t Pershing Square North                           & Broadway \\& W 32 St                            & 20                                             \\\\\n",
       "\t Central Park North \\& Adam Clayton Powell Blvd & Central Park North \\& Adam Clayton Powell Blvd & 18                                             \\\\\n",
       "\t Grand Army Plaza \\& Central Park S             & Central Park S \\& 6 Ave                        & 18                                             \\\\\n",
       "\t Vernon Blvd \\& 50 Ave                          & McGuinness Blvd \\& Eagle St                    & 18                                             \\\\\n",
       "\t Grand Army Plaza \\& Central Park S             & Grand Army Plaza \\& Central Park S             & 17                                             \\\\\n",
       "\t N 6 St \\& Bedford Ave                          & Wythe Ave \\& Metropolitan Ave                  & 17                                             \\\\\n",
       "\\end{tabular}\n"
      ],
      "text/markdown": [
       "\n",
       "| Start.Station | End.Station | total_trips |\n",
       "|---|---|---|\n",
       "| E 7 St & Avenue A                             | Cooper Square & E 7 St                        | 33                                            |\n",
       "| Central Park S & 6 Ave                        | Central Park S & 6 Ave                        | 31                                            |\n",
       "| Centre St & Chambers St                       | Centre St & Chambers St                       | 24                                            |\n",
       "| Pershing Square North                         | W 33 St & 7 Ave                               | 24                                            |\n",
       "| Pershing Square North                         | Broadway & W 32 St                            | 20                                            |\n",
       "| Central Park North & Adam Clayton Powell Blvd | Central Park North & Adam Clayton Powell Blvd | 18                                            |\n",
       "| Grand Army Plaza & Central Park S             | Central Park S & 6 Ave                        | 18                                            |\n",
       "| Vernon Blvd & 50 Ave                          | McGuinness Blvd & Eagle St                    | 18                                            |\n",
       "| Grand Army Plaza & Central Park S             | Grand Army Plaza & Central Park S             | 17                                            |\n",
       "| N 6 St & Bedford Ave                          | Wythe Ave & Metropolitan Ave                  | 17                                            |\n",
       "\n"
      ],
      "text/plain": [
       "   Start.Station                                \n",
       "1  E 7 St & Avenue A                            \n",
       "2  Central Park S & 6 Ave                       \n",
       "3  Centre St & Chambers St                      \n",
       "4  Pershing Square North                        \n",
       "5  Pershing Square North                        \n",
       "6  Central Park North & Adam Clayton Powell Blvd\n",
       "7  Grand Army Plaza & Central Park S            \n",
       "8  Vernon Blvd & 50 Ave                         \n",
       "9  Grand Army Plaza & Central Park S            \n",
       "10 N 6 St & Bedford Ave                         \n",
       "   End.Station                                   total_trips\n",
       "1  Cooper Square & E 7 St                        33         \n",
       "2  Central Park S & 6 Ave                        31         \n",
       "3  Centre St & Chambers St                       24         \n",
       "4  W 33 St & 7 Ave                               24         \n",
       "5  Broadway & W 32 St                            20         \n",
       "6  Central Park North & Adam Clayton Powell Blvd 18         \n",
       "7  Central Park S & 6 Ave                        18         \n",
       "8  McGuinness Blvd & Eagle St                    18         \n",
       "9  Grand Army Plaza & Central Park S             17         \n",
       "10 Wythe Ave & Metropolitan Ave                  17         "
      ]
     },
     "metadata": {},
     "output_type": "display_data"
    }
   ],
   "source": [
    "# for New York dataset\n",
    "\n",
    "# call the most_common_trip function to get the data\n",
    "most_common_trip(ny)"
   ]
  },
  {
   "cell_type": "code",
   "execution_count": 25,
   "metadata": {},
   "outputs": [
    {
     "data": {
      "text/html": [
       "<table>\n",
       "<thead><tr><th scope=col>Start.Station</th><th scope=col>End.Station</th><th scope=col>total_trips</th></tr></thead>\n",
       "<tbody>\n",
       "\t<tr><td><span style=white-space:pre-wrap>Jefferson Dr &amp; 14th St SW                            </span></td><td><span style=white-space:pre-wrap>Jefferson Dr &amp; 14th St SW                            </span></td><td>198                                                                                              </td></tr>\n",
       "\t<tr><td>Smithsonian-National Mall / Jefferson Dr &amp; 12th St SW</td><td>Smithsonian-National Mall / Jefferson Dr &amp; 12th St SW</td><td>192                                                      </td></tr>\n",
       "\t<tr><td><span style=white-space:pre-wrap>Lincoln Memorial                                     </span>    </td><td><span style=white-space:pre-wrap>Jefferson Dr &amp; 14th St SW                            </span></td><td>143                                                                                              </td></tr>\n",
       "\t<tr><td>Lincoln Memorial                                     </td><td>Jefferson Memorial                                   </td><td>143                                                  </td></tr>\n",
       "\t<tr><td><span style=white-space:pre-wrap>Jefferson Dr &amp; 14th St SW                            </span></td><td><span style=white-space:pre-wrap>Lincoln Memorial                                     </span>    </td><td>138                                                                                              </td></tr>\n",
       "\t<tr><td>Lincoln Memorial                                     </td><td>Lincoln Memorial                                     </td><td>120                                                  </td></tr>\n",
       "\t<tr><td>Jefferson Memorial                                   </td><td>Lincoln Memorial                                     </td><td>115                                                  </td></tr>\n",
       "\t<tr><td><span style=white-space:pre-wrap>8th &amp; F St NE                                        </span></td><td><span style=white-space:pre-wrap>Columbus Circle / Union Station                      </span>    </td><td>109                                                                                              </td></tr>\n",
       "\t<tr><td><span style=white-space:pre-wrap>Columbus Circle / Union Station                      </span>    </td><td><span style=white-space:pre-wrap>8th &amp; F St NE                                        </span></td><td>107                                                                                              </td></tr>\n",
       "\t<tr><td><span style=white-space:pre-wrap>4th St &amp; Madison Dr NW                               </span></td><td><span style=white-space:pre-wrap>4th St &amp; Madison Dr NW                               </span></td><td>102                                                                                              </td></tr>\n",
       "</tbody>\n",
       "</table>\n"
      ],
      "text/latex": [
       "\\begin{tabular}{r|lll}\n",
       " Start.Station & End.Station & total\\_trips\\\\\n",
       "\\hline\n",
       "\t Jefferson Dr \\& 14th St SW                             & Jefferson Dr \\& 14th St SW                             & 198                                                    \\\\\n",
       "\t Smithsonian-National Mall / Jefferson Dr \\& 12th St SW & Smithsonian-National Mall / Jefferson Dr \\& 12th St SW & 192                                                    \\\\\n",
       "\t Lincoln Memorial                                        & Jefferson Dr \\& 14th St SW                             & 143                                                    \\\\\n",
       "\t Lincoln Memorial                                      & Jefferson Memorial                                    & 143                                                  \\\\\n",
       "\t Jefferson Dr \\& 14th St SW                             & Lincoln Memorial                                        & 138                                                    \\\\\n",
       "\t Lincoln Memorial                                      & Lincoln Memorial                                      & 120                                                  \\\\\n",
       "\t Jefferson Memorial                                    & Lincoln Memorial                                      & 115                                                  \\\\\n",
       "\t 8th \\& F St NE                                         & Columbus Circle / Union Station                         & 109                                                    \\\\\n",
       "\t Columbus Circle / Union Station                         & 8th \\& F St NE                                         & 107                                                    \\\\\n",
       "\t 4th St \\& Madison Dr NW                                & 4th St \\& Madison Dr NW                                & 102                                                    \\\\\n",
       "\\end{tabular}\n"
      ],
      "text/markdown": [
       "\n",
       "| Start.Station | End.Station | total_trips |\n",
       "|---|---|---|\n",
       "| Jefferson Dr & 14th St SW                             | Jefferson Dr & 14th St SW                             | 198                                                   |\n",
       "| Smithsonian-National Mall / Jefferson Dr & 12th St SW | Smithsonian-National Mall / Jefferson Dr & 12th St SW | 192                                                   |\n",
       "| Lincoln Memorial                                      | Jefferson Dr & 14th St SW                             | 143                                                   |\n",
       "| Lincoln Memorial                                      | Jefferson Memorial                                    | 143                                                   |\n",
       "| Jefferson Dr & 14th St SW                             | Lincoln Memorial                                      | 138                                                   |\n",
       "| Lincoln Memorial                                      | Lincoln Memorial                                      | 120                                                   |\n",
       "| Jefferson Memorial                                    | Lincoln Memorial                                      | 115                                                   |\n",
       "| 8th & F St NE                                         | Columbus Circle / Union Station                       | 109                                                   |\n",
       "| Columbus Circle / Union Station                       | 8th & F St NE                                         | 107                                                   |\n",
       "| 4th St & Madison Dr NW                                | 4th St & Madison Dr NW                                | 102                                                   |\n",
       "\n"
      ],
      "text/plain": [
       "   Start.Station                                        \n",
       "1  Jefferson Dr & 14th St SW                            \n",
       "2  Smithsonian-National Mall / Jefferson Dr & 12th St SW\n",
       "3  Lincoln Memorial                                     \n",
       "4  Lincoln Memorial                                     \n",
       "5  Jefferson Dr & 14th St SW                            \n",
       "6  Lincoln Memorial                                     \n",
       "7  Jefferson Memorial                                   \n",
       "8  8th & F St NE                                        \n",
       "9  Columbus Circle / Union Station                      \n",
       "10 4th St & Madison Dr NW                               \n",
       "   End.Station                                           total_trips\n",
       "1  Jefferson Dr & 14th St SW                             198        \n",
       "2  Smithsonian-National Mall / Jefferson Dr & 12th St SW 192        \n",
       "3  Jefferson Dr & 14th St SW                             143        \n",
       "4  Jefferson Memorial                                    143        \n",
       "5  Lincoln Memorial                                      138        \n",
       "6  Lincoln Memorial                                      120        \n",
       "7  Lincoln Memorial                                      115        \n",
       "8  Columbus Circle / Union Station                       109        \n",
       "9  8th & F St NE                                         107        \n",
       "10 4th St & Madison Dr NW                                102        "
      ]
     },
     "metadata": {},
     "output_type": "display_data"
    }
   ],
   "source": [
    "# for Washington DC dataset\n",
    "\n",
    "# call the most_common_trip function to get the data\n",
    "most_common_trip(wash)"
   ]
  },
  {
   "cell_type": "markdown",
   "metadata": {},
   "source": [
    "Here you can see the most popular combinations of start station and end station by total number of trips.\n",
    "\n",
    "<hr>"
   ]
  },
  {
   "cell_type": "markdown",
   "metadata": {},
   "source": [
    "Goodbye."
   ]
  }
 ],
 "metadata": {
  "kernelspec": {
   "display_name": "R",
   "language": "R",
   "name": "ir"
  },
  "language_info": {
   "codemirror_mode": "r",
   "file_extension": ".r",
   "mimetype": "text/x-r-source",
   "name": "R",
   "pygments_lexer": "r",
   "version": "3.6.1"
  }
 },
 "nbformat": 4,
 "nbformat_minor": 2
}
